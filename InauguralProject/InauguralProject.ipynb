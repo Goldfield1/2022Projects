{
 "cells": [
  {
   "cell_type": "code",
   "execution_count": 2,
   "id": "f4f1ef57-d6d7-4936-bac7-c4334b74a088",
   "metadata": {},
   "outputs": [],
   "source": [
    "import InauguralProjectt as ip\n",
    "import importlib\n",
    "\n",
    "importlib.reload(ip)"
   ]
  },
  {
   "cell_type": "code",
   "execution_count": 3,
   "id": "2d3388c2-bf93-4586-99af-8467cd33e91f",
   "metadata": {},
   "outputs": [],
   "source": [
    "mp = {\"phi\": 0.3, \"epsilon\": 0.5, \"r\": 0.03, \"tau_g\": 0.012, \"tau_p\": 0.004, \"p_bar\": 3}"
   ]
  },
  {
   "cell_type": "code",
   "execution_count": 6,
   "id": "a8c4c048-c2b0-4b30-9d39-018ebab1e40d",
   "metadata": {},
   "outputs": [
    {
     "ename": "AttributeError",
     "evalue": "module 'InauguralProject' has no attribute 'solve'",
     "output_type": "error",
     "traceback": [
      "\u001b[1;31m---------------------------------------------------------------------------\u001b[0m",
      "\u001b[1;31mAttributeError\u001b[0m                            Traceback (most recent call last)",
      "\u001b[1;32m~\\AppData\\Local\\Temp/ipykernel_7084/2711571882.py\u001b[0m in \u001b[0;36m<module>\u001b[1;34m\u001b[0m\n\u001b[1;32m----> 1\u001b[1;33m \u001b[0mh\u001b[0m \u001b[1;33m=\u001b[0m \u001b[0mip\u001b[0m\u001b[1;33m.\u001b[0m\u001b[0msolve\u001b[0m\u001b[1;33m(\u001b[0m\u001b[1;36m0.5\u001b[0m\u001b[1;33m,\u001b[0m \u001b[0mmp\u001b[0m\u001b[1;33m)\u001b[0m\u001b[1;33m\u001b[0m\u001b[1;33m\u001b[0m\u001b[0m\n\u001b[0m",
      "\u001b[1;31mAttributeError\u001b[0m: module 'InauguralProject' has no attribute 'solve'"
     ]
    }
   ],
   "source": [
    "h = ip.solve(0.5, mp)"
   ]
  },
  {
   "cell_type": "markdown",
   "id": "6adccc03-d8c8-433a-bb09-a5aeffa6fee2",
   "metadata": {},
   "source": [
    "daf"
   ]
  }
 ],
 "metadata": {
  "kernelspec": {
   "display_name": "Python 3 (ipykernel)",
   "language": "python",
   "name": "python3"
  },
  "language_info": {
   "codemirror_mode": {
    "name": "ipython",
    "version": 3
   },
   "file_extension": ".py",
   "mimetype": "text/x-python",
   "name": "python",
   "nbconvert_exporter": "python",
   "pygments_lexer": "ipython3",
   "version": "3.9.7"
  }
 },
 "nbformat": 4,
 "nbformat_minor": 5
}
