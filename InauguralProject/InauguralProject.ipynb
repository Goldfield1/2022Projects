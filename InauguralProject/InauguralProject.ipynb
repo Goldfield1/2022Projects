{
 "cells": [
  {
   "cell_type": "code",
   "execution_count": null,
   "id": "f4f1ef57-d6d7-4936-bac7-c4334b74a088",
   "metadata": {},
   "outputs": [
    {
     "name": "stdout",
     "output_type": "stream",
     "text": [
      "4.1666666039527485\n",
      "0.35000000225770106\n",
      "[1.18355294 0.54111971 0.5571838  ... 0.47003396 0.65577097 0.40524864]\n",
      "[0.00767094]\n",
      "-5.976677486252413e-13\n",
      "4.1666666039527485\n",
      "0.35000000225770106\n",
      "[1.18355294 0.54111971 0.5571838  ... 0.47003396 0.65577097 0.40524864]\n"
     ]
    }
   ],
   "source": [
    "import InauguralProject as ip\n",
    "import importlib\n",
    "importlib.reload(ip)"
   ]
  },
  {
   "cell_type": "code",
   "execution_count": null,
   "id": "2d3388c2-bf93-4586-99af-8467cd33e91f",
   "metadata": {},
   "outputs": [],
   "source": [
    "mp = {\"phi\": 0.3, \"epsilon\": 0.5, \"r\": 0.03, \"tau_g\": 0.012, \"tau_p\": 0.004, \"p_bar\": 3}"
   ]
  },
  {
   "cell_type": "code",
   "execution_count": null,
   "id": "a8c4c048-c2b0-4b30-9d39-018ebab1e40d",
   "metadata": {},
   "outputs": [],
   "source": [
    "h = ip.solve(0.5, mp)\n",
    "print(h)\n"
   ]
  },
  {
   "cell_type": "code",
   "execution_count": null,
   "id": "cc8038fc-05aa-4e25-8214-83c85ac3c465",
   "metadata": {
    "tags": []
   },
   "outputs": [],
   "source": [
    "print(\"hello world\")\n",
    "print(\"kek\")"
   ]
  },
  {
   "cell_type": "code",
   "execution_count": null,
   "id": "be93b3f4-bc63-4625-8049-0749d5a3993d",
   "metadata": {},
   "outputs": [],
   "source": []
  },
  {
   "cell_type": "code",
   "execution_count": null,
   "id": "fe3c351e-aeb6-461d-8fb5-b270a7a3363b",
   "metadata": {},
   "outputs": [],
   "source": []
  }
 ],
 "metadata": {
  "kernelspec": {
   "display_name": "Python 3 (ipykernel)",
   "language": "python",
   "name": "python3"
  },
  "language_info": {
   "codemirror_mode": {
    "name": "ipython",
    "version": 3
   },
   "file_extension": ".py",
   "mimetype": "text/x-python",
   "name": "python",
   "nbconvert_exporter": "python",
   "pygments_lexer": "ipython3",
   "version": "3.9.7"
  }
 },
 "nbformat": 4,
 "nbformat_minor": 5
}
