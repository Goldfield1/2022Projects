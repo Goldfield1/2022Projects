{
 "cells": [
  {
   "cell_type": "code",
   "execution_count": 115,
   "id": "f9c17336-c260-4a34-8094-645ee463af7a",
   "metadata": {},
   "outputs": [],
   "source": [
    "import numpy as np\n",
    "from scipy import optimize\n",
    "import matplotlib.pyplot as plt"
   ]
  },
  {
   "cell_type": "code",
   "execution_count": 154,
   "id": "5703b1d5-ba6a-4714-aeeb-352e6e4796ab",
   "metadata": {},
   "outputs": [
    {
     "name": "stdout",
     "output_type": "stream",
     "text": [
      "[ 28.28429793 353.55305704]\n"
     ]
    }
   ],
   "source": [
    "alpha = 0.5\n",
    "\n",
    "def util(xs):\n",
    "    return xs[0] ** alpha * xs[1] ** (1 - alpha)\n",
    "\n",
    "def optimizer_fun(xs, ps):\n",
    "    return (xs[0] * ps[0] + xs[1] * ps[1])\n",
    "\n",
    "ps = [25, 2]\n",
    "u0 = 100\n",
    "\n",
    "def solve(p, u0):\n",
    "    initial_guess = [0.1, 0.1]\n",
    "    constraints = ({'type': 'ineq', 'fun': lambda x: util(x) - u0})\n",
    "    bounds = bounds = [(0, None) for p in ps]\n",
    "    res = optimize.minimize(optimizer_fun, initial_guess, args=(p), method=\"SLSQP\", constraints = constraints, bounds = bounds)\n",
    "    return res\n",
    "\n",
    "res = solve(ps, u0)\n",
    "print(res.x)"
   ]
  },
  {
   "cell_type": "code",
   "execution_count": 155,
   "id": "792daf90-1637-4edd-abe9-659cc81a09d6",
   "metadata": {},
   "outputs": [
    {
     "name": "stdout",
     "output_type": "stream",
     "text": [
      "1414.213562374468\n"
     ]
    }
   ],
   "source": [
    "I = res.x[0] * ps[0] + res.x[1] * ps[1]\n",
    "\n",
    "x1s = np.linspace(0,I/ps[0])\n",
    "\n",
    "print(I)\n",
    "\n",
    "def budget_line(x, ps):\n",
    "    I = res.x[0] * ps[0] + res.x[1] * ps[1]\n",
    "    return (I - (ps[0] * x)) / ps[1]\n",
    "\n",
    "def util_graph(x, u0):\n",
    "    if x < 20:\n",
    "        return None\n",
    "    else:\n",
    "        return (u0 ** (1 / (1 - alpha)) * x ** (- alpha / (1 - alpha)))\n",
    "\n",
    "budgetline = [budget_line(x, ps) for x in x1s]\n",
    "utils = [util_graph(x, u0) for x in x1s]"
   ]
  },
  {
   "cell_type": "code",
   "execution_count": 156,
   "id": "a66c84e3-d771-4a1b-b55b-2fe14236767a",
   "metadata": {},
   "outputs": [
    {
     "name": "stdout",
     "output_type": "stream",
     "text": [
      "100.00000000005258\n"
     ]
    }
   ],
   "source": [
    "print(util(res.x))"
   ]
  },
  {
   "cell_type": "code",
   "execution_count": 157,
   "id": "4000c04f-6d6a-42e3-b78d-726fad6a464b",
   "metadata": {},
   "outputs": [
    {
     "data": {
      "image/png": "[encoded data removed]",
      "text/plain": [
       "<Figure size 432x288 with 1 Axes>"
      ]
     },
     "metadata": {
      "needs_background": "light"
     },
     "output_type": "display_data"
    }
   ],
   "source": [
    "plt.plot(x1s, budgetline)\n",
    "plt.plot(x1s, utils)\n",
    "plt.plot(res.x[0],res.x[1],ls='',marker='o',color='blue',label='loop')\n",
    "plt.show()"
   ]
  },
  {
   "cell_type": "code",
   "execution_count": null,
   "id": "58248713-dc1b-494f-b4c1-074ece995e75",
   "metadata": {},
   "outputs": [],
   "source": []
  },
  {
   "cell_type": "code",
   "execution_count": null,
   "id": "46e111a1-2723-42a1-b98f-c56e149dbea2",
   "metadata": {},
   "outputs": [],
   "source": []
  }
 ],
 "metadata": {
  "kernelspec": {
   "display_name": "Python 3 (ipykernel)",
   "language": "python",
   "name": "python3"
  },
  "language_info": {
   "codemirror_mode": {
    "name": "ipython",
    "version": 3
   },
   "file_extension": ".py",
   "mimetype": "text/x-python",
   "name": "python",
   "nbconvert_exporter": "python",
   "pygments_lexer": "ipython3",
   "version": "3.9.7"
  }
 },
 "nbformat": 4,
 "nbformat_minor": 5
}
